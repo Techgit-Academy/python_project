{
 "cells": [
  {
   "cell_type": "markdown",
   "id": "e95b93d8",
   "metadata": {},
   "source": [
    "# UPYA ACQUISITION MODEL"
   ]
  },
  {
   "cell_type": "code",
   "execution_count": 1,
   "id": "277d39a0",
   "metadata": {},
   "outputs": [],
   "source": [
    "import pandas as pd\n",
    "import numpy as numpy\n",
    "import csv as csv\n",
    "import datetime as date\n",
    "\n",
    "path_to_import = 'clients.csv'\n",
    "\n",
    "import_file = pd.read_csv(path_to_import, sep=',', engine='python', encoding='utf-8-sig')\n",
    "\n",
    "headers = pd.read_csv(path_to_import, nrows=0, sep=',').columns.tolist()\n",
    "\n",
    "clients = pd.read_csv(path_to_import, sep=',')\n",
    "\n",
    "clients.columns = clients.columns.str[1:]\n",
    "\n",
    "clients = clients[['lientNumber','category','profile.firstName','profile.lastName','contact.mobile','status','signingDate','recorder',\n",
    "             'profile.gender','profile.state','profile.district','profile.address','profile.landmark','profile.city','profile.gps.latitude',\n",
    "             'profile.gps.longitude','profile.languages']]\n",
    "\n",
    "clients = clients.rename(columns = {'lientNumber': 'clientNumber'}, inplace = False)\n",
    "\n",
    "clients['signingDate'] = pd.to_datetime(clients['signingDate'], format='%m/%d/%Y')\n",
    "\n",
    "clients['signingDate'] = pd.to_datetime(clients['signingDate']).dt.normalize()\n",
    "\n",
    "clients = clients[((clients['signingDate'] >= '11/13/2023') & (clients['signingDate'] <= '11/13/2023')) & (clients['status'] == 'Signed')]"
   ]
  },
  {
   "cell_type": "code",
   "execution_count": 2,
   "id": "0fbce5c0",
   "metadata": {},
   "outputs": [],
   "source": [
    "contracts = pd.read_csv('contracts.csv', usecols = ['client.clientNumber','contractNumber','paygNumber','dealName','status','signingDate','client.contact.fullNumber','onboardingStatus','schedule.upfrontPayment','schedule.minPayment','schedule.upfrontDays','totalCost'], encoding='windows-1252')\n",
    "\n",
    "contracts = contracts[(contracts['dealName'] != 'LCP Demo (Perpetuity)') & (contracts['contractNumber'] != 295593406 ) & (contracts['onboardingStatus'] == 'Signed')]\n",
    "\n",
    "#contracts = contracts[(contracts['dealName'] != 'LCP Demo (Perpetuity)') & ((contracts['onboardingStatus'] == 'Signed') | (contracts['onboardingStatus'] == 'Approved'))]\n",
    "\n",
    "contracts['signingDate'] = pd.to_datetime(contracts['signingDate'].str[0:10]).dt.normalize()\n",
    "\n",
    "#contracts['signingDate'] = pd.to_datetime(contracts['signingDate'].str[0:19]).... This helps to keep the DateTime format intact\n",
    "\n",
    "contracts['signingDate'] = pd.to_datetime(contracts['signingDate'], format='%Y/%m/%d')\n",
    "\n",
    "#contract"
   ]
  },
  {
   "cell_type": "code",
   "execution_count": 3,
   "id": "400a2972",
   "metadata": {},
   "outputs": [],
   "source": [
    "contracts = contracts[((contracts['signingDate'] >= '2023/11/13') & (contracts['signingDate'] <= '2023/11/13'))]"
   ]
  },
  {
   "cell_type": "code",
   "execution_count": 4,
   "id": "f2d6c2f1",
   "metadata": {},
   "outputs": [],
   "source": [
    "join1 = pd.merge(clients, contracts, how='inner', left_on='clientNumber', right_on = 'client.clientNumber')"
   ]
  },
  {
   "cell_type": "code",
   "execution_count": 5,
   "id": "4c92cfc3",
   "metadata": {},
   "outputs": [],
   "source": [
    "join1['initial_down_payment'] = join1['schedule.upfrontPayment'] - join1['schedule.minPayment']"
   ]
  },
  {
   "cell_type": "code",
   "execution_count": 6,
   "id": "95d59f75",
   "metadata": {},
   "outputs": [],
   "source": [
    "agents = pd.read_csv('agents.csv', usecols = ['agentNumber','profile.firstName','profile.lastName','profile.gender','entity.name','contact.mobile','role','location.district'], encoding='windows-1252')"
   ]
  },
  {
   "cell_type": "code",
   "execution_count": 7,
   "id": "1d237f21",
   "metadata": {},
   "outputs": [],
   "source": [
    "join2 = pd.merge(join1, agents, how='left', left_on='recorder', right_on = 'agentNumber')"
   ]
  },
  {
   "cell_type": "code",
   "execution_count": 8,
   "id": "5dea2379",
   "metadata": {},
   "outputs": [],
   "source": [
    "\n",
    "join3 = join2[['clientNumber','contractNumber','onboardingStatus','signingDate_x','paygNumber','category','status_y','dealName','schedule.upfrontPayment','schedule.minPayment',\n",
    "               'initial_down_payment','totalCost','schedule.upfrontDays','profile.firstName_x','profile.lastName_x','contact.mobile_x','profile.gender_x','profile.languages',\n",
    "               'profile.address','profile.landmark','profile.city','profile.district','profile.state','profile.gps.latitude','profile.gps.longitude','recorder','profile.firstName_y',\n",
    "               'profile.lastName_y','profile.gender_y','contact.mobile_y','entity.name','role','location.district']]"
   ]
  },
  {
   "cell_type": "code",
   "execution_count": 9,
   "id": "1f284b37",
   "metadata": {},
   "outputs": [],
   "source": [
    "\n",
    "join3.columns = ['client_number','contract_number','onboarding_status','created_date','system_id','grid_category','status','tenure',\n",
    "                'full_initial_payment','monthly_payment','initial_down_payment','total_cost','upfront_days','first_name','last_name',\n",
    "                'customer_contact','customer_gender','customer_language','customer_address','customer_landmark','customer_city',\n",
    "                'customer_district','customer_state','customer_latitude','customer_longitude','agent_id','agent_first_name',\n",
    "                'agent_last_name','agent_gender','agent_contact','sales_mk','role','agent_district']\n",
    "\n"
   ]
  },
  {
   "cell_type": "code",
   "execution_count": 10,
   "id": "d82bd10b",
   "metadata": {},
   "outputs": [],
   "source": [
    "#join3.info()\n",
    "\n",
    "tm_mapping = pd.read_excel('tm_mapping.xlsx')\n",
    "\n",
    "upya_acq = pd.merge(join3, tm_mapping, how= 'left', on= 'agent_district')\n"
   ]
  },
  {
   "cell_type": "code",
   "execution_count": 11,
   "id": "d61e9f2c",
   "metadata": {},
   "outputs": [],
   "source": [
    "upya_acq['monthly_payment'] = upya_acq['monthly_payment'].fillna(0)\n",
    "upya_acq['initial_down_payment'] = upya_acq['initial_down_payment'].fillna(0)\n",
    "upya_acq['upfront_days'] = upya_acq['upfront_days'].fillna(0)\n",
    "upya_acq['full_initial_payment'] = upya_acq['full_initial_payment'].fillna(0)\n",
    "upya_acq['customer_latitude'] = upya_acq['customer_latitude'].fillna(0)\n",
    "upya_acq['customer_longitude'] = upya_acq['customer_longitude'].fillna(0)\n",
    "upya_acq['customer_landmark'] = upya_acq['customer_landmark'].fillna('N/A')\n",
    "upya_acq['customer_city'] = upya_acq['customer_city'].fillna('N/A')\n",
    "upya_acq['customer_district'] = upya_acq['customer_district'].fillna('N/A')\n",
    "upya_acq['grid_category'] = upya_acq['grid_category'].fillna('N/A')\n",
    "upya_acq['sm'] = upya_acq['sm'].fillna('N/A')\n",
    "upya_acq['agent_gender'] = upya_acq['agent_gender'].fillna('N/A')\n",
    "upya_acq['tm_first_name'] = upya_acq['tm_first_name'].fillna('N/A')\n",
    "upya_acq['sm_state'] = upya_acq['sm_state'].fillna('N/A')\n",
    "upya_acq['tm_last_name'] = upya_acq['tm_last_name'].fillna('N/A')"
   ]
  },
  {
   "cell_type": "code",
   "execution_count": 12,
   "id": "7b0280f0",
   "metadata": {},
   "outputs": [],
   "source": [
    "#import mysql.connector as msql\n",
    "#from mysql.connector import Error\n",
    "\n",
    "#try:\n",
    "    #conn = msql.connect(host='165.232.88.149', \n",
    "                           #database='lumosNG', user='wale', \n",
    "                           #password='Olawale47253!', port='3306')\n",
    "    #if conn.is_connected():\n",
    "        #cursor = conn.cursor()\n",
    "        #cursor.execute(\"select database();\")\n",
    "        #record = cursor.fetchone()\n",
    "        #print(\"You're connected to lumosNG database: \", record)\n",
    "        #cursor.execute('DROP TABLE IF EXISTS lcp_base;')\n",
    "        #cursor.execute(\"Delete from upya_lcp_base where created_date > '2023/06/30'\")\n",
    "        #print(\"Data deleted from 2023/07/01\")\n",
    "        #print('Activity Table Truncated....')\n",
    "        #print('Re-Creating Activity Table....')\n",
    "        #cursor.execute(\"CREATE TABLE lcp_base (contract VARCHAR(50) NULL,system_id BIGINT NULL,contract_id BIGINT NULL,panel_id VARCHAR(50) NULL,created_date DATE NULL,customer_name VARCHAR(100) NULL,price_book_name VARCHAR(100) NULL,product_name VARCHAR(50) NULL,subtype VARCHAR(10) NULL,initial_rate_plan VARCHAR(20) NULL,full_initial_payment FLOAT(10,2) NULL,initial_down_payment FLOAT(10,2) NULL,sales_channel VARCHAR(20) NULL,sales_sub_channel VARCHAR(50) NULL,lcp_name VARCHAR(70) NULL,phone_number BIGINT NULL,alternate_contact BIGINT NULL,guarantor1_contact VARCHAR(20) NULL,guarantor2_contact VARCHAR(20) NULL,billing_street VARCHAR(230) NULL,community VARCHAR(50) NULL,local_government VARCHAR(100) NULL,billing_city VARCHAR(100) NULL,billing_state VARCHAR(50) NULL,location_longitude FLOAT(10,5) NULL,location_latitude FLOAT(10,5) NULL,TSM VARCHAR(50) NULL,store_name VARCHAR(50) NULL,status VARCHAR(20) NULL) ENGINE = InnoDB DEFAULT CHARACTER SET = utf8mb4 COLLATE = utf8mb4_general_ci;\")\n",
    "        #print(\"inserting into UPYA_lcp_base....\")\n",
    "        #for i,row in upya_acq.iterrows():\n",
    "            #sql = \"INSERT INTO lumosNG.upya_lcp_base VALUES (%s,%s,%s,%s,%s,%s,%s,%s,%s,%s,%s,%s,%s,%s,%s,%s,%s,%s,%s,%s,%s,%s,%s,%s,%s,%s,%s,%s,%s,%s,%s,%s,%s,%s,%s)\"\n",
    "            #cursor.execute(sql, tuple(row))\n",
    "            #chunksize = 20\n",
    "            #print(\"Record inserted\")\n",
    "            # the connection is not autocommitted by default, so we must commit to save our changes\n",
    "            #conn.commit()\n",
    "#except Error as e:\n",
    "    #print(\"Error while connecting to MySQL\", e)\n",
    "    \n",
    "#print (\"UPYA_lcp_base completely updated\")"
   ]
  },
  {
   "cell_type": "code",
   "execution_count": 13,
   "id": "89f50ef0",
   "metadata": {},
   "outputs": [
    {
     "data": {
      "text/plain": [
       "client_number           0\n",
       "customer_landmark       0\n",
       "customer_district       0\n",
       "customer_state          0\n",
       "customer_latitude       0\n",
       "customer_longitude      0\n",
       "agent_id                0\n",
       "agent_first_name        0\n",
       "agent_last_name         0\n",
       "agent_gender            0\n",
       "agent_contact           0\n",
       "sales_mk                0\n",
       "role                    0\n",
       "agent_district          0\n",
       "tm_first_name           0\n",
       "tm_last_name            0\n",
       "sm                      0\n",
       "customer_city           0\n",
       "customer_address        0\n",
       "contract_number         0\n",
       "customer_language       0\n",
       "onboarding_status       0\n",
       "created_date            0\n",
       "system_id               0\n",
       "grid_category           0\n",
       "status                  0\n",
       "tenure                  0\n",
       "full_initial_payment    0\n",
       "monthly_payment         0\n",
       "initial_down_payment    0\n",
       "total_cost              0\n",
       "upfront_days            0\n",
       "first_name              0\n",
       "last_name               0\n",
       "customer_contact        0\n",
       "customer_gender         0\n",
       "sm_state                0\n",
       "dtype: int64"
      ]
     },
     "execution_count": 13,
     "metadata": {},
     "output_type": "execute_result"
    }
   ],
   "source": [
    "upya_acq.isnull().sum().sort_values(ascending = False)"
   ]
  },
  {
   "cell_type": "code",
   "execution_count": 14,
   "id": "d3fed91a",
   "metadata": {},
   "outputs": [],
   "source": [
    "upya_acq.to_excel(\"Nov'23_data.xlsx\")"
   ]
  },
  {
   "cell_type": "code",
   "execution_count": null,
   "id": "59ba0a59",
   "metadata": {},
   "outputs": [],
   "source": []
  }
 ],
 "metadata": {
  "kernelspec": {
   "display_name": "Python 3 (ipykernel)",
   "language": "python",
   "name": "python3"
  },
  "language_info": {
   "codemirror_mode": {
    "name": "ipython",
    "version": 3
   },
   "file_extension": ".py",
   "mimetype": "text/x-python",
   "name": "python",
   "nbconvert_exporter": "python",
   "pygments_lexer": "ipython3",
   "version": "3.11.5"
  }
 },
 "nbformat": 4,
 "nbformat_minor": 5
}
